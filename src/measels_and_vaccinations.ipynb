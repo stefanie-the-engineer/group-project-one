# Notebook
%matplotlib notebook

# Dependencies
import matplotlib
import matplotlib.pyplot as plt
import numpy as np
import pandas as pd
import geopandas as gpd
import pysal as ps

from shapely.geometry import Point

# Data sets and load CSVs
exemptions_df = pd.read_csv("../../../Exemptions.csv")
cdc_measles_imported_cases_df = pd.read_csv("../../../Resources/Measles_Imported_YTD_Week_Ending_13APR2019_CDC.csv")
cdc_measles_indigenous_cases_df = pd.read_csv("../../../Resources/Measles_Indigenous_YTD-Week_Ending_13APR2019_CDC.csv")
measles_regional_summary_df = pd.read_csv("../../../Resources/Measles_Regional_Summary_2018_2019.csv")
us_mmr_vaccination_coverage_by_state_2014_2017_df = pd.read_csv("../../../MMR_Vaccination_Coverage_By_State_2014-2017.csv")
new_mmr_vaccination_coverage_by_state_2015_2017_df = pd.read_csv("../../../New_MMR_Vaccination_Coverage_By_State_1995-2017.csv")
nnds_measles_2015_df = pd.read_csv("../../../NNDS_2015.cvs")
nndss_measles_diseases_df = pd.read_csv("../../../Resources/NNDSS-Table_I_Infrequently_Reported_Notifiable_Diseases.csv")
nndss_measeles_df = pd.read_csv("../../../Resources/NNDSS-TABLE_1V_Malaria_To_Measles__Imported.csv")
outbreak_data_us_2011_2014_df = pd.read_csv("../../../Outbreak_Data_US_2011-2014.csv")
us_mmr_coverage_by_state_df = pd.read_csv("../../../US_MMR_Vaccination_Coverage_By_State_1995-2017.csv", encodin g="ISO-8859-1")
us_school_vaccine_req_df = pd.read_csv("../../../Resources/US_School_Vaccine_Requirements_And_Exemptions.csv")
who_measles_cases_df = pd.read_csv("../../../Resources/WHO_Measles_Cases_By_Country_By_Month.csv")
who_measles_cases_2_df = pd.read_csv("../../../WHO_Measles_Cases_By_Country.csv")
region_df = pd.read_csv("../../../WHO_Measles_Cases.csv")
world_bank_country_class_df = pd.read_csv("../../../Resources/World_Bank_Country_Income_Classification.csv")

#read in shapefile data
map_df= gpd.read_file("../../../Resources/States.shp")

# Analyzing the Data

# Comparing the measles outbreaks in the world by comparing wealthy countries and other countries
# By Stefanie Kenyon

# Bar Graph
# Data Frames and Graphs
# Merging "Country Status" and "WHO" data sets
combined_country_df = pd.merge(who_measles_cases_df, world_bank_country_class_df, on = "Country", how = "inner")

# Create new Data Frame that contains only the columns that we need
countries_df = combined_country_df.loc[:, ["Year", "Totals", "Income group"]]

# Replace NaN values with 0s
countries_df["Totals"].fillna(0, inplace = True)

# Convert float data types to int data types and rename column
countries_df["Year"] = countries_df.Year.astype(int)
countries_df["Totals"] = countries_df.Totals.astype(int)

# Rename "Income group" column to "Income Group"
countries_df = countries_df.rename(columns = {"Income group": "Income Group"})

# Delete rows where the Year is before 2015
countries_df.drop(countries_df[countries_df.Year < 2015].index, inplace = True)

# Create pivot table and create bar chart using pivot table
countries_pivot_df = pd.pivot_table(countries_df, index = ["Year"], columns = ["Income Group"], aggfunc = "sum").plot.bar(stacked = True, color = colors)

# Arrays to store colors for bar chart and labels for legend
colors = ["navy", "blue", "cornflowerblue", "skyblue"]
legend_labels = ["High Income", "Upper Middle Income", "Lower Middle Income", "Lower Income"]

# X AXIS
# Values
years = [2015, 2016, 2017, 2018, 2019]
x_axis = np.arange(len(years))

# Sets the x limits of the current chart
plt.xlim(-0.75, len(x_axis) - 0.25)

# Y AXIS
# Sets the y limits of the current chart
plt.ylim(0, 600000)

# Create pivot table and create bar chart using pivot table
countries_pivot_df = pd.pivot_table(countries_df, index = ["Year"], columns = ["Income Group"], aggfunc = "sum").plot.bar(stacked = True, color = colors)

# Give chart a title, labels and legend
plt.title("Measles Cases By Country Wealth Classification")
plt.ylabel("Measles Cases Counts")
plt.xticks(x_axis, ("2015", "2016", "2017", "2018", "2019"))
plt.xlabel("Year")
plt.legend(loc = "best", labels = legend_labels)

# Show the plot
plt.show()

# Export to .png file
plt.savefig("../../measles_around_the_world.png")

# Data Frame (to show actual numbers related to the bar graph)
# Create new Data Frame that contains only the columns that we need
countries_table_df = combined_country_df.loc[:, ["Year", "Totals", "Income group"]]

# Replace NaN values with 0s
countries_table_df["Totals"].fillna(0, inplace = True)

# Convert float data types to int data types and rename column
countries_table_df["Year"] = countries_table_df.Year.astype(int)
countries_table_df["Totals"] = countries_table_df.Totals.astype(int)

# Rename "Income group" column to "Income Group"
countries_table_df = countries_table_df.rename(columns = {"Income group": "Income Group"})

# Delete rows where the Year is before 2015
countries_table_df.drop(countries_table_df[countries_table_df.Year < 2015].index, inplace = True)

countries_table_pivot_df = pd.pivot_table(countries_table_df, index = ["Year"], columns = ["Income Group"], aggfunc = "sum")
countries_table_pivot_df

# Measels cases by continent or region

# By Cristy Brust
region_df.append(region_df.sum(numeric_only=True), ignore_index=True)

# Setting the positions and width for the bars
pos = list(range(len(region_df['Country'])))
width = 0.15

# Plotting the bars
fig, ax = plt.subplots(figsize = (20, 10))

# Create a bar with pre_score data
# In position pos
plt.bar(pos,
	#using df['pre_score'] data
	region_df['2015'],
    # of width
    width,
    # with alpha 0.5,
    alpha=1,
    # with color\n",
    color= '#edf8b1',
    # with label the first value in first_name
    label=region_df['Country'][0])

# Create a bar with mid_score data
# in position pos + some width buffer
plt.bar([p + width for p in pos],
    #using df['mid_score'] data
    region_df['2016'],
    # of width
    width,
    # with alpha 0.5
    alpha=0.5,
    # with color
    color='#7fcdbb',
    # with label the second value in first_name
    label=region_df['Country'][1])
    
# Create a bar with post_score data
# in position pos + some width buffer
plt.bar([p + width*2 for p in pos]
    #using df['post_score'] data,\n",
    region_df['2017'],
    # of width
    width,
    # with alpha 0.5
    alpha=0.5,
    # with color
    color='#2c7fb8',
    # with label the third value in first_name
    label=region_df['Country'][2])

plt.bar([p + width*3 for p in pos],
    #using df['post_score'] data
   	region_df['2018'],
    # of width\n",
    width,
    # with alpha 0.5
    alpha=0.5,
    # with color
    color='#31a354',
    # with label the third value in first_name
    label=region_df['Country'][3])

plt.bar([p + width*4 for p in pos], \n",
    #using df['post_score'] data,\n",
    region_df['2019'],
    # of width
    width,
    # with alpha 0.5
    alpha=0.5,
    # with color
    color='indigo',
    # with label the third value in first_name
    label=region_df['Country'][4])

# Set the y axis label\n",
ax.set_ylabel('Number of Cases')

# Set the chart's title
ax.set_title('Measles Cases Reported')

# Set the position of the x ticks
ax.set_xticks([p + 1 * width for p in pos])

# Set the labels for the x ticks
ax.set_xticklabels(region_df['Country'])

# Setting the x-axis and y-axis limits
plt.xlim(min(pos)-width, max(pos)+width*5)
plt.ylim([0, max(region_df['2018']*1.2 )])

# Adding the legend and showing the plot
plt.legend(['2015','2016','2017','2018','2019'], loc='upper left')
plt.grid()
plt.show()

africa_df = pd.read_csv("../../../WHO_Measles_Cases_By_Country_Africa.csv")

# Setting the positions and width for the bars
pos = list(range(len(africa_df['Country'])))
width = 0.15

# Plotting the bars\n",
fig, ax = plt.subplots(figsize=(20,10))

# Create a bar with pre_score data
# in position pos
plt.bar(pos,
    # using df['pre_score'] data
    africa_df['2015'],
    # of width
    width,
    # with alpha
    alpha=1,
    # with color
    color= '#edf8b1',
    # with label the first value in first_name
    label=africa_df['Country'][0])

# Create a bar with mid_score data
# in position pos + some width buffer
plt.bar([p + width for p in pos],
    # using df['mid_score']
    africa_df['2016']
    # of width
    width,
    # with alpha 0.5
    alpha=0.5,
    # with color
    color='#7fcdbb',
    # with label the second value in first_name
    label=africa_df['Country'][1])

# Create a bar with post_score data
# in position pos + some width buffer
plt.bar([p + width*2 for p in pos],
    # using df['post_score'] data
    africa_df['2017'],
    # of width
    width,
    # with alpha 0.5
    alpha=0.5,
    # with color
    color='#2c7fb8',
    # with label the third value in first_name
    label=africa_df['Country'][2])

plt.bar([p + width*3 for p in pos],
	# using df['post_score'] data
    africa_df['2018'],
    # of width\n",
    width,
    # with alpha 0.5
    alpha=0.5,
    # with color
    color='#31a354',
    # with label the third value in first_name
    label=africa_df['Country'][3])

plt.bar([p + width*4 for p in pos],
    # using df['post_score'] data
    africa_df['2019'],
    # of width
    width,
    # with alpha 0.5
    alpha=0.5,
    # with color
    color='Indigo',
    # with label the third value in first_name
    label=africa_df['Country'][4])

# Set the y axis label
ax.set_ylabel('Number of Cases')

# Set the chart's title
ax.set_title('Measles Cases Reported')

# Set the position of the x ticks
ax.set_xticks([p + 1 * width for p in pos])

# Set the labels for the x ticks
ax.set_xticklabels(africa_df['Country'])

# Setting the x-axis and y-axis limits
plt.xlim(min(pos)-width, max(pos)+width*5)
plt.ylim([0, max(africa_df['2018']*1.2 )])

# Adding the legend and showing the plot
plt.legend(['2015','2016','2017','2018','2019'], loc='upper left')
plt.grid()
plt.show()

asia_df = pd.read_csv("../../../WHO_Measles_Cases_By_Country_Asia.csv")

# Setting the positions and width for the bars
pos = list(range(len(asia_df['Country'])))
width = 0.15

# Plotting the bars
fig, ax = plt.subplots(figsize=(20,10))

# Create a bar with pre_score data
# in position pos
plt.bar(pos,
    # using df['pre_score'] data
    asia_df['2015'],
    # of width
    width,
    # with alpha
    alpha=1,
    # with color
    color= '#edf8b1',
    # with label the first value in first_name
    label=asia_df['Country'][0])

# Create a bar with mid_score data
# in position pos + some width buffer
plt.bar([p + width for p in pos],
    #using df['mid_score']
    asia_df['2016'],
    # of width
    width,
    # with alpha 0.5
    alpha=0.5,
    # with color
    color='#7fcdbb',
    # with label the second value in first_name
    label=asia_df['Country'][1])

# Create a bar with post_score data
# in position pos + some width buffer
plt.bar([p + width*2 for p in pos],
    #using df['post_score'] data
    asia_df['2017'],
    # of width
    width,
    # with alpha
    alpha=0.5,
    # with color
    color='#2c7fb8',
    # with label the third value in first_name
    label=asia_df['Country'][2])

plt.bar([p + width*3 for p in pos],
    #using df['post_score'] data
    asia_df['2018'],
    # of width
    width,
    # with alpha 0.5
    alpha=0.5,
   	# with color
    color='#31a354',
    # with label the third value in first_name
    label=asia_df['Country'][3])

plt.bar([p + width*4 for p in pos],
    #using df['post_score'] data
    asia_df['2019'],
    # of width
    width,
    # with alpha 0.5
    alpha=0.5,
    # with color
    color='Indigo',
    # with label the third value in first_name
    label=asia_df['Country'][4])

# Set the y axis label
ax.set_ylabel('Number of Cases')

# Set the chart's title
ax.set_title('Measles Cases Reported')

# Set the position of the x ticks
ax.set_xticks([p + 1 * width for p in pos])

# Set the labels for the x ticks
ax.set_xticklabels(asia_df['Country'])

# Setting the x-axis and y-axis limits
plt.xlim(min(pos)-width, max(pos)+width*5)
plt.ylim([0, max(asia_df['2018']*1.2 )] )

# Adding the legend and showing the plot
plt.legend(['2015','2016','2017','2018','2019'], loc='upper left')
plt.grid()
plt.show()

americas_df = pd.read_csv("../../../WHO_Measles_Cases_By_Country_Americas.csv")

# Setting the positions and width for the bars
pos = list(range(len(americas_df['Country'])))
width = 0.15

# Plotting the bars
fig, ax = plt.subplots(figsize=(20,10))

# Create a bar with pre_score data
# in position pos
plt.bar(pos,
    #using df['pre_score'] data
    americas_df['2015'],
    # of width
    width,
    # with alpha 0.5
    alpha=1,
    # with color
    color= '#edf8b1',
    # with label the first value in first_name
    label=americas_df['Country'][0])

# Create a bar with mid_score data
# in position pos + some width buffer
plt.bar([p + width for p in pos],
    #using df['mid_score'] data
    americas_df['2016'],
    # of width
    width,
    # with alpha 0.5
    alpha=0.5,
    # with color
    color='#7fcdbb',
    # with label the second value in first_name
    label=americas_df['Country'][1])

# Create a bar with post_score data
# in position pos + some width buffer
plt.bar([p + width*2 for p in pos],
    #using df['post_score'] data
    americas_df['2017'],
    # of width
    width,
    # with alpha 0.5
    alpha=0.5,
    # with color
    color='#2c7fb8',
    # with label the third value in first_name
    label=americas_df['Country'][2])

plt.bar([p + width*3 for p in pos],
    #using df['post_score'] data,
    americas_df['2018'],
    # of width
    width,
    # with alpha 0.5
    alpha=0.5,
    # with color
    color='#31a354',
    # with label the third value in first_name
    label=americas_df['Country'][3])

plt.bar([p + width*4 for p in pos],
    #using df['post_score'] data
    americas_df['2019'],
    # of width
    width,
    # with alpha 0.5
    alpha=0.5,
    # with color
    color='Indigo',
    # with label the third value in first_name
    label=americas_df['Country'][4])

# Set the y axis label
ax.set_ylabel('Number of Cases')

# Set the chart's title
ax.set_title('Measles Cases Reported')

# Set the position of the x ticks
ax.set_xticks([p + 1 * width for p in pos])

# Set the labels for the x ticks
ax.set_xticklabels(americas_df['Country'])

# Setting the x-axis and y-axis limits
plt.xlim(min(pos)-width, max(pos)+width*5)
plt.ylim([0, max(americas_df['2018']*1.2 )] )

# Adding the legend and showing the plot
plt.legend(['2015','2016','2017','2018','2019'], loc='upper left')
plt.grid()
plt.show()

emr_df = pd.read_csv("../../../WHO_Measles_Cases_By_Country_EMR.csv")

# Setting the positions and width for the bars
pos = list(range(len(emr_df['Country'])))
width = 0.15

# Plotting the bars
fig, ax = plt.subplots(figsize=(20,10))

# Create a bar with pre_score data
# in position pos
plt.bar(pos,
    #using df['pre_score']
    emr_df['2015'],
    # of width
    width,
    # with alpha 0.5
    alpha=1,
    # with color
    color= '#edf8b1',
    # with label the first value in first_name
    label=emr_df['Country'][0])

# Create a bar with mid_score data
# in position pos + some width buffer
plt.bar([p + width for p in pos],
    #using df['mid_score'] data
    emr_df['2016'],
    # of width
    width,
    # with alpha 0.5
    alpha=0.5,
    # with color
    color='#7fcdbb',
    # with label the second value in first_name
    label=emr_df['Country'][1])

# Create a bar with post_score data
# in position pos + some width buffer
plt.bar([p + width*2 for p in pos],
    #using df['post_score'] data
    emr_df['2017'],
    # of width
    width,
    # with alpha 0.5
    alpha=0.5,
    # with color
    color='#2c7fb8',
    # with label the third value in first_name
    label=emr_df['Country'][2])

plt.bar([p + width*3 for p in pos],
    #using df['post_score'] data
    emr_df['2018'],
    # of width
    width,
    # with alpha 0.5
    alpha=0.5,
    # with color
    color='#31a354',
    # with label the third value in first_name
    label=emr_df['Country'][3])

plt.bar([p + width*4 for p in pos],
    #using df['post_score'] data
    emr_df['2019'],
    # of width
   	width,
    # with alpha 0.5
    alpha=0.5,
    # with color
    color='Indigo',
    # with label the third value in first_name
    label=emr_df['Country'][4])

# Set the y axis label
ax.set_ylabel('Number of Cases')

# Set the chart's title
ax.set_title('Measles Cases Reported')

# Set the position of the x ticks
ax.set_xticks([p + 1 * width for p in pos])

# Set the labels for the x ticks
ax.set_xticklabels(emr_df['Country'])

# Setting the x-axis and y-axis limits
plt.xlim(min(pos)-width, max(pos)+width*5)
plt.ylim([0, max(emr_df['2018']*1.2 )])

# Adding the legend and showing the plot
plt.legend(['2015','2016','2017','2018','2019'], loc='upper left')
plt.grid()
plt.show()

europe_df =  pd.read_csv("../../../WHO_Measles_Cases_By_Country_Europe.csv")

# Setting the positions and width for the bars
pos = list(range(len(europe_df['Country'])))
width = 0.15

# Plotting the bars
fig, ax = plt.subplots(figsize=(20,10))

# Create a bar with pre_score data,
# in position pos,
plt.bar(pos,
    #using df['pre_score'] data
    europe_df['2015'],
    # of width
    width,
    # with alpha 0.5
    alpha=1,
    # with color
    color= '#edf8b1',
    # with label the first value in first_name
    label=europe_df['Country'][0])

# Create a bar with mid_score data
# in position pos + some width buffer
plt.bar([p + width for p in pos],
    #using df['mid_score'] data
    europe_df['2016'],
    # of width
    width,
    # with alpha 0.5
    alpha=0.5,
    # with color
    color='#7fcdbb',
    # with label the second value in first_name
    label=europe_df['Country'][1])

# Create a bar with post_score data,
# in position pos + some width buffer,
plt.bar([p + width*2 for p in pos],
    #using df['post_score'] data,
    europe_df['2017'],
    # of width
    width,
    # with alpha 0.5
    alpha=0.5,
    # with color
    color='#2c7fb8',
    # with label the third value in first_name
    label=europe_df['Country'][2])

plt.bar([p + width*3 for p in pos],
    #using df['post_score'] data,
    europe_df['2018'],
    # of width
    width,
    # with alpha 0.5
    alpha=0.5,
    # with color
    color='#31a354',
    # with label the third value in first_name
    label=europe_df['Country'][3])

plt.bar([p + width*4 for p in pos],
    #using df['post_score'] data
    europe_df['2019'],
    # of width
    width,
    # with alpha 0.5
    alpha=0.5,
    # with color
    color='Indigo',
   	# with label the third value in first_name
    label=europe_df['Country'][4])

# Set the y axis label
ax.set_ylabel('Number of Cases')

# Set the chart's title
ax.set_title('Measles Cases Reported')

# Set the position of the x ticks
ax.set_xticks([p + 1 * width for p in pos])

# Set the labels for the x ticks
ax.set_xticklabels(europe_df['Country'])

# Setting the x-axis and y-axis limits
plt.xlim(min(pos)-width, max(pos)+width*5)
plt.ylim([0, max(europe_df['2018']*1.2 )] )

# Adding the legend and showing the plot
plt.legend(['2015','2016','2017','2018','2019'], loc='upper left')
plt.grid()
plt.show()

wpr_df = pd.read_csv("../../../WHO_Measles_Cases_By_Country_WPR.csv")
   
# Setting the positions and width for the bars
pos = list(range(len(wpr_df['Country'])))
width = 0.15

# Plotting the bars
fig, ax = plt.subplots(figsize=(20,10))

# Create a bar with pre_score data
# in position pos
plt.bar(pos,
    #using df['pre_score'] data
    wpr_df['2015'],
    # of width
    width,
    # with alpha
    alpha=1,
    # with color
    color= '#edf8b1',
    # with label the first value in first_name
    label=wpr_df['Country'][0])

# Create a bar with mid_score data
# in position pos + some width buffer
plt.bar([p + width for p in pos],
    #using df['mid_score'] data
    wpr_df['2016'],
    # of width
    width,
    # with alpha 0.5
    alpha=0.5,
    # with color
    color='#7fcdbb',
    # with label the second value in first_name
    label=wpr_df['Country'][1])

# Create a bar with post_score data
# in position pos + some width buffer
plt.bar([p + width*2 for p in pos],
    #using df['post_score'] data
    wpr_df['2017'],
    # of width
    width,
    # with alpha 0.5
    alpha=0.5,
    # with color
    color='#2c7fb8',
    # with label the third value in first_name
    label=wpr_df['Country'][2])

plt.bar([p + width*3 for p in pos],
    #using df['post_score'] data,
    wpr_df['2018'],
    # of width
    width,
    # with alpha 0.5
    alpha=0.5,
    # with color
    color='#31a354',
    # with label the third value in first_name
    label=wpr_df['Country'][3])

plt.bar([p + width*4 for p in pos],
	#using df['post_score'] data
    wpr_df['2019'],
    # of width
    width,
    # with alpha 0.5
    alpha=0.5,
    # with color
    color='Indigo',
    # with label the third value in first_name
    label=wpr_df['Country'][4])

# Set the y axis label
ax.set_ylabel('Number of Cases')

# Set the chart's title
ax.set_title('Measles Cases Reported')

# Set the position of the x ticks
ax.set_xticks([p + 1 * width for p in pos])

# Set the labels for the x ticks
ax.set_xticklabels(wpr_df['Country'])

# Setting the x-axis and y-axis limits
plt.xlim('min(pos)-width', max(pos)+width*5)
plt.ylim([0, max(wpr_df['2018']*1.2 )])

# Adding the legend and showing the plot
plt.legend(['2015','2016','2017','2018','2019'], loc='upper left')
plt.grid()
plt.show()

# Outbreaks and Immunizations in the United States

# By Hemani Choksi

# Maps

new_immuno = us_mmr_vaccination_coverage_by_state_2014_2017_df.dropna(subset = ["2014", "2015","2016"], how = "all")

#charting immunization rates 2014-2016
State = new_immuno["Names"]
x_axis = np.arange(len(new_immuno))
year2014=new_immuno["2014"]
tick_locations = [value+0.4 for value in x_axis]
plt.figure(figsize=(22,10))
visual2014 = plt.bar(x_axis, year2014, color='r', alpha=0.5, align="center", label="2014")
plt.xticks(tick_locations, State, rotation="vertical")
my_y_ticks = np.arange(0,120,10)
plt.yticks(my_y_ticks)
plt.title("2014 Rates of MMR Immunization across States")
plt.xlabel("State")
plt.ylabel("Percent of State Immunized")
  
year2015=new_immuno["2015"]
year2016=new_immuno["2016"]
tick_locations = [value+0.4 for value in x_axis]
plt.figure(figsize=(22,10))
visual2015 = plt.bar(x_axis, year2015, color='g', alpha=0.5, align="center", label="2014")
plt.xticks(tick_locations, State, rotation="vertical")
my_y_ticks = np.arange(0,120,10)
plt.yticks(my_y_ticks)
plt.title("2015 Rates of MMR Immunization across States")
plt.xlabel("State"),
plt.ylabel("Percent of State Immunized"),

year2016=new_immuno["2016"]
tick_locations = [value+0.4 for value in x_axis]
plt.figure(figsize=(22,10))
visual2015 = plt.bar(x_axis, year2015, color='b', alpha=0.5, align="center", label="2014")
plt.xticks(tick_locations, State, rotation="vertical")
my_y_ticks = np.arange(0,120,10)
plt.yticks(my_y_ticks)
plt.title("2016 Rates of MMR Immunization across States")
plt.xlabel("State")
plt.ylabel("Percent of State Immunized")

x_axis = outbreak_data_us_2011_2014_df["Year"]
y_axis=outbreak_data_us_2011_2014_df['Total Cases Reported']
tick_locations = [value for value in x_axis]
plt.figure(figsize=(22,10))
outbreakplot= plt.plot(x_axis, y_axis, color="navy", linewidth=5)
plt.xticks(tick_locations, x_axis, rotation="horizontal")
plt.title("Outbreak Cases across the United States from 2011 to 2015")
plt.xlabel("Year")
plt.ylabel("Number of Cases")
plt.grid()

# Percentage of States with exemptions from school immunization requirements

# Hemani Choksi

# Pie Chart & Map
exemptions_df.set_index('State').head()

total = exemptions_df['State'].count()

exemptions_df['Religious Exemption'].value_counts()
exemptions_df['Philosophical Exemption'].value_counts()

only_religious = exemptions_df[(exemptions_df["Religious Exemption"] == "Yes") & (exemptions_df["Philosophical Exemption"] == "No")]
only_religious.count()
 
only_philosophical = exemptions_df[(exemptions_df["Religious Exemption"] == "No") & (exemptions_df["Philosophical Exemption"] == "Yes")]
only_philosophical.count()

both = exemptions_df[(exemptions_df["Religious Exemption"] == "Yes") & (exemptions_df["Philosophical Exemption"] == "Yes")]
both.count()
 
no_result = exemptions_df[(exemptions_df["Religious Exemption"] == "No") & (exemptions_df["Philosophical Exemption"] == "No")]
no_result.count()

# Build Pie Chart
labels = ["Religious", "Philosophical", "Both", "None"]
sizes = [len(only_religious), len(only_philosophical), len(both), len(no_result)]
colors = ["lightcoral", "green", "skyblue", "yellow"]
explode = (0.1, 0, 0, 0)
plt.pie(sizes, explode=explode, labels=labels, colors=colors, autopct="%1.1f%%", shadow=True, startangle=270)
plt.title("% of States with Exemptions from School Immunization Requirements")

# Show Figure 
plt.show()

combined_outbreak_df = pd.merge(cdc_measles_indigenous_cases_df, cdc_measles_imported_cases_df, how='outer', on='Location')

# Rename columns
combined_outbreak_df= combined_outbreak_df.rename(columns={"Location": "State", "Case Count_x":"Indigenous", "Case Count_y":"Imported"})
cols = ['Indigenous', 'Imported']
combined_outbreak_df[cols] = combined_outbreak_df[cols].apply(pd.to_numeric, errors='coerce', axis=1)

#merge data
combined_df = pd.merge(combined_outbreak_df, exemptions_df, how='outer', on='State')

#merge map df with combined data
merged = map_df.set_index('STATE_NAME').join(combined_df.set_index('State'))

#dropna to show only states with outbreaks
new_data = merged.dropna(subset = ["Indigenous", "Imported"], how = "all")
 
# create indig and imported only dfs
cleaned_indig = new_data.dropna(subset=['Indigenous'], how= "all")

cleaned_import = new_data.dropna(subset=['Imported'], how= "all")

#IMPORTED MAP
variable_1 = cleaned_indig
fig, ax = plt.subplots(figsize  = (20, 10))
map_df[map_df['STATE_NAME'].isin(['Alaska','Hawaii']) == False].plot(alpha = 1, color="white", edgecolor = "black", ax = ax)
cleaned_indig.plot(column=variable_1, color='skyblue', alpha = 1, edgecolor = "black", ax = ax)
ax.set_axis_off()
plt.title("Indigenous 2019 Measles Cases by State", fontsize=20)
plt.axis('equal')
plt.show()

#IMPORTED MAP
variable_2 = cleaned_import
fig, ax = plt.subplots(figsize  = (20, 10))
map_df[map_df['STATE_NAME'].isin(['Alaska','Hawaii']) == False].plot(alpha = 1, color="white", edgecolor = "black", ax = ax)
cleaned_import.plot(column=variable_2, color='lightcoral', alpha = 1, edgecolor = "black", ax = ax)
ax.set_axis_off()
plt.title("Imported 2019 Measles Cases", fontsize=20)
plt.axis('equal');
plt.show

# Vaccination rate trends from 2010 - 2017

# By Ning Xie 

# Line Graph
Rates10_17 = df.loc[:,['Names','2010','2011','2012','2013','2014','2015','2016','2017']]
Rates10_17 = Rates10_17.dropna(how = 'any')
Rates10_17 = Rates10_17.reset_index(drop = True)

Time = [2010, 2011, 2012, 2013, 2014, 2015, 2016, 2017]
US_Rates = Rates10_17[Rates10_17['Names']=='United States'].reset_index(drop = True)
Time_Rates = pd.DataFrame({
    "Time":Time,
    "Rates":[US_Rates["2010"].mean(),
            US_Rates["2011"].mean(),
            US_Rates["2012"].mean(),
            US_Rates["2013"].mean(),
            US_Rates["2014"].mean(),
            US_Rates["2015"].mean(),
            US_Rates["2016"].mean(),
            US_Rates["2017"].mean()]
})

plt.plot(Time_Rates["Time"], Time_Rates["Rates"] , label= "United States", marker= "o", color="red", linestyle=':')
plt.legend()
plt.title("Immunization Rates in the US 2010-2017 ")
plt.xlabel("Time (Year)")
plt.ylabel("Rates(%)")
plt.grid()

z = np.polyfit(Time_Rates["Time"],Time_Rates["Rates"],1)
p = np.poly1d(z)
Time_Rates_new = Time_Rates.append({"Time": 2018}, ignore_index=True)
Time_Rates_new = Time_Rates_new.append({"Time": 2019}, ignore_index=True)
plt.plot(Time_Rates_new["Time"],p(Time_Rates_new["Time"]),"r--")

my_x_ticks = np.arange(2010, 2020, 1)
plt.xticks(my_x_ticks)

plt.show()
