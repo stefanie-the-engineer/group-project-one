# Notebook
%matplotlib notebook

# Dependencies
import matplotlib.pyplot as plt
import numpy as np
import pandas as pd

# Load CSVs
cdc_measles_cases_df = pd.read_csv("../../Resources/Measles_Imported_YTD-Week_Ending_13APR2019_CDC.csv")
cdc_measles_indigenous__cases_df = pd.read_csv("../../Resources/Measles_Indigenous_YTD-Week_Ending_13APR2019_CDC.csv")
measles_regional_summary_df = pd.read_csv("../../Resources/Measles_Regional_Summary_2018_2019.csv")
nndss_measeles_df = pd.read_csv("../../Resources/NNDSS-TABLE_1V_Malaria_To_Measles__Imported.csv")
nndss_measles_diseases_df = pd.read_csv("../../Resources/NNDSS-Table_I_Infrequently_Reported_Notifiable_Diseases.csv")
us_mmr_coverage_by_state_df = pd.read_csv("../../US_MMR_Vaccination_Coverage_By_State_1995-2017.csv")
us_school_vaccine_req_df = pd.read_csv("../../Resources/US_School_Vaccine_Requirements_And_Exemptions.csv")
who_measles_cases_df = pd.read_csv("../../Resources/WHO_Measles_Cases_By_Country_By_Month.csv")
world_bank_country_class_df = pd.read_csv("../../Resources/World_Bank_Country_Income_Classification.csv")

# Data Frames and Graphs