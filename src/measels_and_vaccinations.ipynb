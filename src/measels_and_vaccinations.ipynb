# Notebook
%matplotlib notebook

# Dependencies
import matplotlib.pyplot as plt
import numpy as np
import pandas as pd

# Data sets and load CSVs
exemptions_df = pd.read_csv("../../Exemptions.csv")
cdc_measles_imported_cases_df = pd.read_csv("../../Resources/Measles_Imported_YTD_Week_Ending_13APR2019_CDC.csv")
cdc_measles_indigenous__cases_df = pd.read_csv("../../Resources/Measles_Indigenous_YTD-Week_Ending_13APR2019_CDC.csv")
measles_regional_summary_df = pd.read_csv("../../Resources/Measles_Regional_Summary_2018_2019.csv")
us_mmr_vaccination_coverage_by_state_2014_2017_df = pd.read_csv("../../MMR_Vaccination_Coverage_By_State_2014-2017.csv")
new_mmr_vaccination_coverage_by_state_2015_2017_df = pd.read_csv("../../New_MMR_Vaccination_Coverage_By_State_1995-2017.csv")
nnds_measles_2015_df = pd.read_csv("../../NNDS_2015.cvs")
nndss_measles_diseases_df = pd.read_csv("../../Resources/NNDSS-Table_I_Infrequently_Reported_Notifiable_Diseases.csv")
nndss_measeles_df = pd.read_csv("../../Resources/NNDSS-TABLE_1V_Malaria_To_Measles__Imported.csv")
outbreak_data_us_2011_2014_df = pd.read_csv("../../Outbreak_Data_US_2011-2014.csv")
us_mmr_coverage_by_state_df = pd.read_csv("../../US_MMR_Vaccination_Coverage_By_State_1995-2017.csv")
us_school_vaccine_req_df = pd.read_csv("../../Resources/US_School_Vaccine_Requirements_And_Exemptions.csv")
who_measles_cases_df = pd.read_csv("../../Resources/WHO_Measles_Cases_By_Country_By_Month.csv")
who_measles_cases_2_df = pd.read_csv("../../WHO_Measles_Cases_By_Country.csv")
who_measles_cases_3_df = ("../../WHO_Measles_Cases.csv")
world_bank_country_class_df = pd.read_csv("../../Resources/World_Bank_Country_Income_Classification.csv")
world_bank_country_class_df = pd.read_csv("../../Resources/States_Shp.xml")
world_bank_country_class_df = pd.read_csv("../../Resources/States.dbf")
world_bank_country_class_df = pd.read_csv("../../Resources/States.prj")
world_bank_country_class_df = pd.read_csv("../../Resources/States.sbn")
world_bank_country_class_df = pd.read_csv("../../Resources/States.sbx")
world_bank_country_class_df = pd.read_csv("../../Resources/States.shp")
world_bank_country_class_df = pd.read_csv("../../Resources/States.shx")

# Analyzing the Data
# By Stefanie Kenyon
# Comparing the measles outbreaks in the world by comparing wealthy countries and other countries
# Bar Graph
# Data Frames and Graphs
# Merging "Country Status" and "WHO" data sets
combined_country_df = pd.merge(who_measles_cases_df, world_bank_country_class_df, on = "Country", how = "inner")

# Create new Data Frame that contains only the columns that we need
countries_df = combined_country_df.loc[:, ["Year", "Totals", "Income group"]]

# Replace NaN values with 0s
countries_df["Totals"].fillna(0, inplace = True)

# Convert float data types to int data types and rename column
countries_df["Year"] = countries_df.Year.astype(int)
countries_df["Totals"] = countries_df.Totals.astype(int)

# Rename "Income group" column to "Income Group"
countries_df = countries_df.rename(columns = {"Income group": "Income Group"})

# Delete rows where the Year is before 2015
countries_df.drop(countries_df[countries_df.Year < 2015].index, inplace = True)

# Create pivot table and create bar chart using pivot table
countries_pivot_df = pd.pivot_table(countries_df, index = ["Year"], columns = ["Income Group"], aggfunc = "sum").plot.bar(stacked = True, color = colors)

# Arrays to store colors for bar chart and labels for legend
colors = ["navy", "blue", "cornflowerblue", "skyblue"]
legend_labels = ["High Income", "Upper Middle Income", "Lower Middle Income", "Lower Income"]

# X AXIS
# Values
years = [2015, 2016, 2017, 2018, 2019]
x_axis = np.arange(len(years))

# Sets the x limits of the current chart
plt.xlim(-0.75, len(x_axis) - 0.25)

# Y AXIS
# Sets the y limits of the current chart
plt.ylim(0, 600000)

# Create pivot table and create bar chart using pivot table
countries_pivot_df = pd.pivot_table(countries_df, index = ["Year"], columns = ["Income Group"], aggfunc = "sum").plot.bar(stacked = True, color = colors)

# Give chart a title, labels and legend
plt.title("Measles Cases By Country Wealth Classification")
plt.ylabel("Measles Cases Counts")
plt.xticks(x_axis, ("2015", "2016", "2017", "2018", "2019"))
plt.xlabel("Year")
plt.legend(loc = "best", labels = legend_labels)

# Show the plot
plt.show()

# Export to .png file
plt.savefig("../../measles_around_the_world.png")

# Data Frame (to show actual numbers related to the bar graph)
# Create new Data Frame that contains only the columns that we need
countries_table_df = combined_country_df.loc[:, ["Year", "Totals", "Income group"]]

# Replace NaN values with 0s
countries_table_df["Totals"].fillna(0, inplace = True)

# Convert float data types to int data types and rename column
countries_table_df["Year"] = countries_table_df.Year.astype(int)
countries_table_df["Totals"] = countries_table_df.Totals.astype(int)

# Rename "Income group" column to "Income Group"
countries_table_df = countries_table_df.rename(columns = {"Income group": "Income Group"})

# Delete rows where the Year is before 2015
countries_table_df.drop(countries_table_df[countries_table_df.Year < 2015].index, inplace = True)

countries_table_pivot_df = pd.pivot_table(countries_table_df, index = ["Year"], columns = ["Income Group"], aggfunc = "sum")
countries_table_pivot_df

# Vaccination Exemptions by State
