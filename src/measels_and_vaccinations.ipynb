# Notebook
%matplotlib notebook

# Dependencies
import matplotlib.pyplot as plt
import numpy as np
import pandas as pd

# Load CSVs
cdc_measles_cases_df = pd.read_csv("../../Resources/Measles_Imported_YTD-Week_Ending_13APR2019_CDC.csv")
cdc_measles_indigenous__cases_df = pd.read_csv("../../Resources/Measles_Indigenous_YTD-Week_Ending_13APR2019_CDC.csv")
measles_regional_summary_df = pd.read_csv("../../Resources/Measles_Regional_Summary_2018_2019.csv")
nndss_measeles_df = pd.read_csv("../../Resources/NNDSS-TABLE_1V_Malaria_To_Measles__Imported.csv")
nndss_measles_diseases_df = pd.read_csv("../../Resources/NNDSS-Table_I_Infrequently_Reported_Notifiable_Diseases.csv")
us_mmr_coverage_by_state_df = pd.read_csv("../../US_MMR_Vaccination_Coverage_By_State_1995-2017.csv")
us_school_vaccine_req_df = pd.read_csv("../../Resources/US_School_Vaccine_Requirements_And_Exemptions.csv")
who_measles_cases_df = pd.read_csv("../../Resources/WHO_Measles_Cases_By_Country_By_Month.csv")
world_bank_country_class_df = pd.read_csv("../../Resources/World_Bank_Country_Income_Classification.csv")

# Bar Graph
# Data Frames and Graphs
# Merging "Country Status" and "WHO" data sets
combined_country_df = pd.merge(who_measles_cases_df, world_bank_country_class_df, on = "Country", how = "inner")

# Create new Data Frame that contains only the columns that we need
countries_df = combined_country_df.loc[:, ["Year", "Totals", "Income group"]]

# Replace NaN values with 0s
countries_df["Totals"].fillna(0, inplace = True)

# Convert float data types to int data types and rename column
countries_df["Year"] = countries_df.Year.astype(int)
countries_df["Totals"] = countries_df.Totals.astype(int)

# Rename "Income group" column to "Income Group"
countries_df = countries_df.rename(columns = {"Income group": "Income Group"})

# Delete rows where the Year is before 2015
countries_df.drop(countries_df[countries_df.Year < 2015].index, inplace = True)

# Create pivot table and create bar chart using pivot table
countries_pivot_df = pd.pivot_table(countries_df, index = ["Year"], columns = ["Income Group"], aggfunc = "sum").plot.bar(stacked = True, color = colors)

# Arrays to store colors for bar chart and labels for legend
colors = ["navy", "blue", "cornflowerblue", "skyblue"]
legend_labels = ["High Income", "Upper Middle Income", "Lower Middle Income", "Lower Income"]

# X AXIS
# Values
years = [2015, 2016, 2017, 2018, 2019]
x_axis = np.arange(len(years))

# Sets the x limits of the current chart
plt.xlim(-0.75, len(x_axis) - 0.25)

# Y AXIS
# Sets the y limits of the current chart
plt.ylim(0, 600000)

# Create pivot table and create bar chart using pivot table
countries_pivot_df = pd.pivot_table(countries_df, index = ["Year"], columns = ["Income Group"], aggfunc = "sum").plot.bar(stacked = True, color = colors)

# Give chart a title, labels and legend
plt.title("Measles Cases By Country Wealth Classification")
plt.ylabel("Measles Cases Counts")
plt.xticks(x_axis, ("2015", "2016", "2017", "2018", "2019"))
plt.xlabel("Year")
plt.legend(loc = "best", labels = legend_labels)

# Show the plot
plt.show()

# Export to .png file
plt.savefig("../../measles_around_the_world.png")

# Data Frame (to show actual numbers related to the bar graph)
# Create new Data Frame that contains only the columns that we need
countries_table_df = combined_country_df.loc[:, ["Year", "Totals", "Income group"]]

# Replace NaN values with 0s
countries_table_df["Totals"].fillna(0, inplace = True)

# Convert float data types to int data types and rename column
countries_table_df["Year"] = countries_table_df.Year.astype(int)
countries_table_df["Totals"] = countries_table_df.Totals.astype(int)

# Rename "Income group" column to "Income Group"
countries_table_df = countries_table_df.rename(columns = {"Income group": "Income Group"})

# Delete rows where the Year is before 2015
countries_table_df.drop(countries_table_df[countries_table_df.Year < 2015].index, inplace = True)

countries_table_pivot_df = pd.pivot_table(countries_table_df, index = ["Year"], columns = ["Income Group"], aggfunc = "sum")
countries_table_pivot_df
